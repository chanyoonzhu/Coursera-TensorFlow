{
  "nbformat": 4,
  "nbformat_minor": 0,
  "metadata": {
    "colab": {
      "name": "Copy of NLP Course - Week 3 Exercise Question.ipynb",
      "version": "0.3.2",
      "provenance": [],
      "collapsed_sections": []
    },
    "kernelspec": {
      "name": "python3",
      "display_name": "Python 3"
    },
    "accelerator": "GPU"
  },
  "cells": [
    {
      "cell_type": "code",
      "metadata": {
        "id": "hmA6EzkQJ5jt",
        "colab_type": "code",
        "colab": {}
      },
      "source": [
        "import json\n",
        "import tensorflow as tf\n",
        "import csv\n",
        "import random\n",
        "import numpy as np\n",
        "\n",
        "from tensorflow.keras.preprocessing.text import Tokenizer\n",
        "from tensorflow.keras.preprocessing.sequence import pad_sequences\n",
        "from tensorflow.keras.utils import to_categorical\n",
        "from tensorflow.keras import regularizers\n",
        "\n",
        "\n",
        "embedding_dim = 100\n",
        "max_length = 16\n",
        "trunc_type='post'\n",
        "padding_type='post'\n",
        "oov_tok = \"<OOV>\"\n",
        "training_size = 16000 #Your dataset size here. Experiment using smaller values (i.e. 16000), but don't forget to train on at least 160000 to see the best effects\n",
        "test_portion=.1\n",
        "\n",
        "corpus = []\n"
      ],
      "execution_count": 0,
      "outputs": []
    },
    {
      "cell_type": "code",
      "metadata": {
        "id": "bM0l_dORKqE0",
        "colab_type": "code",
        "outputId": "72c6ef84-5d96-44ba-df9b-60249ed6cab3",
        "colab": {
          "base_uri": "https://localhost:8080/",
          "height": 202
        }
      },
      "source": [
        "\n",
        "# Note that I cleaned the Stanford dataset to remove LATIN1 encoding to make it easier for Python CSV reader\n",
        "# You can do that yourself with:\n",
        "# iconv -f LATIN1 -t UTF8 training.1600000.processed.noemoticon.csv -o training_cleaned.csv\n",
        "# I then hosted it on my site to make it easier to use in this notebook\n",
        "\n",
        "!wget --no-check-certificate \\\n",
        "    https://storage.googleapis.com/laurencemoroney-blog.appspot.com/training_cleaned.csv \\\n",
        "    -O /tmp/training_cleaned.csv\n",
        "\n",
        "num_sentences = 0\n",
        "\n",
        "with open(\"/tmp/training_cleaned.csv\") as csvfile:\n",
        "    reader = csv.reader(csvfile, delimiter=',')\n",
        "    for row in reader:\n",
        "      # Your Code here. Create list items where the first item is the text, found in row[5], and the second is the label. Note that the label is a '0' or a '4' in the text. When it's the former, make\n",
        "      # your label to be 0, otherwise 1. Keep a count of the number of sentences in num_sentences\n",
        "        list_item=[]\n",
        "        list_item.append(row[5])\n",
        "        label = row[0]\n",
        "        if label == '0':\n",
        "          list_item.append(0)\n",
        "        else:\n",
        "          list_item.append(1)\n",
        "        # YOUR CODE HERE\n",
        "        num_sentences = num_sentences + 1\n",
        "        corpus.append(list_item)\n",
        "\n",
        "\n"
      ],
      "execution_count": 9,
      "outputs": [
        {
          "output_type": "stream",
          "text": [
            "--2019-07-22 21:48:33--  https://storage.googleapis.com/laurencemoroney-blog.appspot.com/training_cleaned.csv\n",
            "Resolving storage.googleapis.com (storage.googleapis.com)... 172.217.194.128, 2404:6800:4003:c04::80\n",
            "Connecting to storage.googleapis.com (storage.googleapis.com)|172.217.194.128|:443... connected.\n",
            "HTTP request sent, awaiting response... 200 OK\n",
            "Length: 238942690 (228M) [application/octet-stream]\n",
            "Saving to: ‘/tmp/training_cleaned.csv’\n",
            "\n",
            "/tmp/training_clean 100%[===================>] 227.87M  92.0MB/s    in 2.5s    \n",
            "\n",
            "2019-07-22 21:48:36 (92.0 MB/s) - ‘/tmp/training_cleaned.csv’ saved [238942690/238942690]\n",
            "\n"
          ],
          "name": "stdout"
        }
      ]
    },
    {
      "cell_type": "code",
      "metadata": {
        "id": "3kxblBUjEUX-",
        "colab_type": "code",
        "outputId": "9261df0d-607e-4f48-a28c-f4b31ee27b87",
        "colab": {
          "base_uri": "https://localhost:8080/",
          "height": 67
        }
      },
      "source": [
        "print(num_sentences)\n",
        "print(len(corpus))\n",
        "print(corpus[1])\n",
        "\n",
        "# Expected Output:\n",
        "# 1600000\n",
        "# 1600000\n",
        "# [\"is upset that he can't update his Facebook by texting it... and might cry as a result  School today also. Blah!\", 0]"
      ],
      "execution_count": 10,
      "outputs": [
        {
          "output_type": "stream",
          "text": [
            "1600000\n",
            "1600000\n",
            "[\"is upset that he can't update his Facebook by texting it... and might cry as a result  School today also. Blah!\", 0]\n"
          ],
          "name": "stdout"
        }
      ]
    },
    {
      "cell_type": "code",
      "metadata": {
        "id": "ohOGz24lsNAD",
        "colab_type": "code",
        "colab": {}
      },
      "source": [
        "sentences=[]\n",
        "labels=[]\n",
        "random.shuffle(corpus)\n",
        "for x in range(training_size):\n",
        "    sentences.append(corpus[x][0])\n",
        "    labels.append(corpus[x][1])\n",
        "\n",
        "\n",
        "tokenizer = Tokenizer()\n",
        "tokenizer.fit_on_texts(sentences)\n",
        "\n",
        "word_index = tokenizer.word_index\n",
        "vocab_size=len(word_index)\n",
        "\n",
        "sequences = tokenizer.texts_to_sequences(sentences)\n",
        "padded = pad_sequences(sequences, maxlen=max_length, padding=padding_type, truncating=trunc_type)\n",
        "\n",
        "split = int(test_portion * training_size)\n",
        "\n",
        "test_sequences = padded[:split]\n",
        "training_sequences = padded[split:training_size]\n",
        "test_labels = labels[:split]\n",
        "training_labels = labels[split:training_size]"
      ],
      "execution_count": 0,
      "outputs": []
    },
    {
      "cell_type": "code",
      "metadata": {
        "id": "gIrtRem1En3N",
        "colab_type": "code",
        "outputId": "efc9d1e9-2c75-4492-9a49-9a4900c72e2c",
        "colab": {
          "base_uri": "https://localhost:8080/",
          "height": 50
        }
      },
      "source": [
        "print(vocab_size)\n",
        "print(word_index['i'])\n",
        "# Expected Output\n",
        "# 138858\n",
        "# 1"
      ],
      "execution_count": 12,
      "outputs": [
        {
          "output_type": "stream",
          "text": [
            "26528\n",
            "1\n"
          ],
          "name": "stdout"
        }
      ]
    },
    {
      "cell_type": "code",
      "metadata": {
        "id": "C1zdgJkusRh0",
        "colab_type": "code",
        "outputId": "677c6114-6910-4e00-e54c-58ae96c2faca",
        "colab": {
          "base_uri": "https://localhost:8080/",
          "height": 202
        }
      },
      "source": [
        "# Note this is the 100 dimension version of GloVe from Stanford\n",
        "# I unzipped and hosted it on my site to make this notebook easier\n",
        "!wget --no-check-certificate \\\n",
        "    https://storage.googleapis.com/laurencemoroney-blog.appspot.com/glove.6B.100d.txt \\\n",
        "    -O /tmp/glove.6B.100d.txt\n",
        "embeddings_index = {};\n",
        "with open('/tmp/glove.6B.100d.txt') as f:\n",
        "    for line in f:\n",
        "        values = line.split();\n",
        "        word = values[0];\n",
        "        coefs = np.asarray(values[1:], dtype='float32');\n",
        "        embeddings_index[word] = coefs;\n",
        "\n",
        "embeddings_matrix = np.zeros((vocab_size+1, embedding_dim));\n",
        "for word, i in word_index.items():\n",
        "    embedding_vector = embeddings_index.get(word);\n",
        "    if embedding_vector is not None:\n",
        "        embeddings_matrix[i] = embedding_vector;"
      ],
      "execution_count": 13,
      "outputs": [
        {
          "output_type": "stream",
          "text": [
            "--2019-07-22 21:50:53--  https://storage.googleapis.com/laurencemoroney-blog.appspot.com/glove.6B.100d.txt\n",
            "Resolving storage.googleapis.com (storage.googleapis.com)... 74.125.24.128, 2404:6800:4003:c02::80\n",
            "Connecting to storage.googleapis.com (storage.googleapis.com)|74.125.24.128|:443... connected.\n",
            "HTTP request sent, awaiting response... 200 OK\n",
            "Length: 347116733 (331M) [text/plain]\n",
            "Saving to: ‘/tmp/glove.6B.100d.txt’\n",
            "\n",
            "/tmp/glove.6B.100d. 100%[===================>] 331.04M  91.0MB/s    in 3.6s    \n",
            "\n",
            "2019-07-22 21:50:57 (91.0 MB/s) - ‘/tmp/glove.6B.100d.txt’ saved [347116733/347116733]\n",
            "\n"
          ],
          "name": "stdout"
        }
      ]
    },
    {
      "cell_type": "code",
      "metadata": {
        "id": "71NLk_lpFLNt",
        "colab_type": "code",
        "outputId": "ca4b1667-ee8e-4033-c234-3297bf189aef",
        "colab": {
          "base_uri": "https://localhost:8080/",
          "height": 34
        }
      },
      "source": [
        "print(len(embeddings_matrix))\n",
        "# Expected Output\n",
        "# 138859"
      ],
      "execution_count": 14,
      "outputs": [
        {
          "output_type": "stream",
          "text": [
            "26529\n"
          ],
          "name": "stdout"
        }
      ]
    },
    {
      "cell_type": "code",
      "metadata": {
        "colab_type": "code",
        "id": "iKKvbuEBOGFz",
        "colab": {
          "base_uri": "https://localhost:8080/",
          "height": 1000
        },
        "outputId": "86b3e703-c7bd-4503-c1a9-d4a22adc2f73"
      },
      "source": [
        "model = tf.keras.Sequential([\n",
        "    tf.keras.layers.Embedding(vocab_size+1, embedding_dim, input_length=max_length, weights=[embeddings_matrix], trainable=False),\n",
        "    # YOUR CODE HERE - experiment with combining different types, such as convolutions and LSTMs\n",
        "    tf.keras.layers.Dropout(0.2),\n",
        "    tf.keras.layers.Conv1D(64, 5, activation='relu'),\n",
        "    tf.keras.layers.MaxPooling1D(4),\n",
        "    tf.keras.layers.LSTM(64),\n",
        "    tf.keras.layers.Dense(1, activation='sigmoid')\n",
        "])\n",
        "model.compile(optimizer='adam', loss='binary_crossentropy', metrics=['acc'])\n",
        "model.summary()\n",
        "\n",
        "num_epochs = 50\n",
        "history = model.fit(training_sequences, training_labels, epochs=num_epochs, validation_data=(test_sequences, test_labels), verbose=2)\n",
        "\n",
        "print(\"Training Complete\")\n"
      ],
      "execution_count": 15,
      "outputs": [
        {
          "output_type": "stream",
          "text": [
            "WARNING: Logging before flag parsing goes to stderr.\n",
            "W0722 21:56:30.302658 139823200667520 deprecation.py:506] From /usr/local/lib/python3.6/dist-packages/tensorflow/python/keras/initializers.py:119: calling RandomUniform.__init__ (from tensorflow.python.ops.init_ops) with dtype is deprecated and will be removed in a future version.\n",
            "Instructions for updating:\n",
            "Call initializer instance with the dtype argument instead of passing it to the constructor\n",
            "W0722 21:56:30.310927 139823200667520 deprecation.py:506] From /usr/local/lib/python3.6/dist-packages/tensorflow/python/ops/init_ops.py:1251: calling VarianceScaling.__init__ (from tensorflow.python.ops.init_ops) with dtype is deprecated and will be removed in a future version.\n",
            "Instructions for updating:\n",
            "Call initializer instance with the dtype argument instead of passing it to the constructor\n",
            "W0722 21:56:33.909306 139823200667520 deprecation.py:323] From /usr/local/lib/python3.6/dist-packages/tensorflow/python/ops/nn_impl.py:180: add_dispatch_support.<locals>.wrapper (from tensorflow.python.ops.array_ops) is deprecated and will be removed in a future version.\n",
            "Instructions for updating:\n",
            "Use tf.where in 2.0, which has the same broadcast rule as np.where\n"
          ],
          "name": "stderr"
        },
        {
          "output_type": "stream",
          "text": [
            "Model: \"sequential\"\n",
            "_________________________________________________________________\n",
            "Layer (type)                 Output Shape              Param #   \n",
            "=================================================================\n",
            "embedding (Embedding)        (None, 16, 100)           2652900   \n",
            "_________________________________________________________________\n",
            "dropout (Dropout)            (None, 16, 100)           0         \n",
            "_________________________________________________________________\n",
            "conv1d (Conv1D)              (None, 12, 64)            32064     \n",
            "_________________________________________________________________\n",
            "max_pooling1d (MaxPooling1D) (None, 3, 64)             0         \n",
            "_________________________________________________________________\n",
            "lstm (LSTM)                  (None, 64)                33024     \n",
            "_________________________________________________________________\n",
            "dense (Dense)                (None, 1)                 65        \n",
            "=================================================================\n",
            "Total params: 2,718,053\n",
            "Trainable params: 65,153\n",
            "Non-trainable params: 2,652,900\n",
            "_________________________________________________________________\n",
            "Train on 14400 samples, validate on 1600 samples\n",
            "Epoch 1/50\n",
            "14400/14400 - 8s - loss: 0.6321 - acc: 0.6404 - val_loss: 0.6043 - val_acc: 0.6581\n",
            "Epoch 2/50\n",
            "14400/14400 - 4s - loss: 0.5747 - acc: 0.6960 - val_loss: 0.5687 - val_acc: 0.6862\n",
            "Epoch 3/50\n",
            "14400/14400 - 4s - loss: 0.5369 - acc: 0.7278 - val_loss: 0.5929 - val_acc: 0.6919\n",
            "Epoch 4/50\n",
            "14400/14400 - 4s - loss: 0.5127 - acc: 0.7454 - val_loss: 0.5559 - val_acc: 0.6975\n",
            "Epoch 5/50\n",
            "14400/14400 - 4s - loss: 0.4808 - acc: 0.7659 - val_loss: 0.5922 - val_acc: 0.6825\n",
            "Epoch 6/50\n",
            "14400/14400 - 4s - loss: 0.4593 - acc: 0.7828 - val_loss: 0.5953 - val_acc: 0.6956\n",
            "Epoch 7/50\n",
            "14400/14400 - 4s - loss: 0.4329 - acc: 0.7899 - val_loss: 0.5863 - val_acc: 0.6950\n",
            "Epoch 8/50\n",
            "14400/14400 - 4s - loss: 0.4111 - acc: 0.8104 - val_loss: 0.6355 - val_acc: 0.6875\n",
            "Epoch 9/50\n",
            "14400/14400 - 4s - loss: 0.3932 - acc: 0.8190 - val_loss: 0.6393 - val_acc: 0.6950\n",
            "Epoch 10/50\n",
            "14400/14400 - 4s - loss: 0.3730 - acc: 0.8281 - val_loss: 0.6473 - val_acc: 0.7013\n",
            "Epoch 11/50\n",
            "14400/14400 - 4s - loss: 0.3593 - acc: 0.8371 - val_loss: 0.6604 - val_acc: 0.6825\n",
            "Epoch 12/50\n",
            "14400/14400 - 4s - loss: 0.3398 - acc: 0.8474 - val_loss: 0.7041 - val_acc: 0.6919\n",
            "Epoch 13/50\n",
            "14400/14400 - 4s - loss: 0.3259 - acc: 0.8561 - val_loss: 0.6971 - val_acc: 0.6900\n",
            "Epoch 14/50\n",
            "14400/14400 - 4s - loss: 0.3152 - acc: 0.8610 - val_loss: 0.6973 - val_acc: 0.6856\n",
            "Epoch 15/50\n",
            "14400/14400 - 4s - loss: 0.2975 - acc: 0.8685 - val_loss: 0.7501 - val_acc: 0.6994\n",
            "Epoch 16/50\n",
            "14400/14400 - 4s - loss: 0.2887 - acc: 0.8712 - val_loss: 0.7402 - val_acc: 0.6906\n",
            "Epoch 17/50\n",
            "14400/14400 - 4s - loss: 0.2794 - acc: 0.8827 - val_loss: 0.7716 - val_acc: 0.6950\n",
            "Epoch 18/50\n",
            "14400/14400 - 4s - loss: 0.2724 - acc: 0.8812 - val_loss: 0.7860 - val_acc: 0.6812\n",
            "Epoch 19/50\n",
            "14400/14400 - 4s - loss: 0.2624 - acc: 0.8874 - val_loss: 0.7784 - val_acc: 0.6844\n",
            "Epoch 20/50\n",
            "14400/14400 - 4s - loss: 0.2595 - acc: 0.8874 - val_loss: 0.8080 - val_acc: 0.6900\n",
            "Epoch 21/50\n",
            "14400/14400 - 4s - loss: 0.2480 - acc: 0.8950 - val_loss: 0.7925 - val_acc: 0.6944\n",
            "Epoch 22/50\n",
            "14400/14400 - 4s - loss: 0.2354 - acc: 0.8990 - val_loss: 0.8408 - val_acc: 0.6769\n",
            "Epoch 23/50\n",
            "14400/14400 - 4s - loss: 0.2386 - acc: 0.8983 - val_loss: 0.7945 - val_acc: 0.6938\n",
            "Epoch 24/50\n",
            "14400/14400 - 4s - loss: 0.2334 - acc: 0.9033 - val_loss: 0.8275 - val_acc: 0.6881\n",
            "Epoch 25/50\n",
            "14400/14400 - 4s - loss: 0.2211 - acc: 0.9078 - val_loss: 0.8965 - val_acc: 0.6856\n",
            "Epoch 26/50\n",
            "14400/14400 - 4s - loss: 0.2146 - acc: 0.9106 - val_loss: 0.8652 - val_acc: 0.6812\n",
            "Epoch 27/50\n",
            "14400/14400 - 4s - loss: 0.2151 - acc: 0.9097 - val_loss: 0.8945 - val_acc: 0.6806\n",
            "Epoch 28/50\n",
            "14400/14400 - 4s - loss: 0.2075 - acc: 0.9139 - val_loss: 0.8993 - val_acc: 0.6869\n",
            "Epoch 29/50\n",
            "14400/14400 - 4s - loss: 0.2033 - acc: 0.9178 - val_loss: 0.8954 - val_acc: 0.6869\n",
            "Epoch 30/50\n",
            "14400/14400 - 4s - loss: 0.2042 - acc: 0.9148 - val_loss: 0.9422 - val_acc: 0.6919\n",
            "Epoch 31/50\n",
            "14400/14400 - 4s - loss: 0.2009 - acc: 0.9189 - val_loss: 0.8597 - val_acc: 0.6869\n",
            "Epoch 32/50\n",
            "14400/14400 - 4s - loss: 0.1826 - acc: 0.9286 - val_loss: 0.9914 - val_acc: 0.6888\n",
            "Epoch 33/50\n",
            "14400/14400 - 4s - loss: 0.1830 - acc: 0.9260 - val_loss: 0.9550 - val_acc: 0.6925\n",
            "Epoch 34/50\n",
            "14400/14400 - 4s - loss: 0.1916 - acc: 0.9216 - val_loss: 0.9659 - val_acc: 0.6744\n",
            "Epoch 35/50\n",
            "14400/14400 - 4s - loss: 0.1784 - acc: 0.9286 - val_loss: 0.9876 - val_acc: 0.6644\n",
            "Epoch 36/50\n",
            "14400/14400 - 4s - loss: 0.1735 - acc: 0.9295 - val_loss: 0.9481 - val_acc: 0.6862\n",
            "Epoch 37/50\n",
            "14400/14400 - 4s - loss: 0.1761 - acc: 0.9283 - val_loss: 0.9547 - val_acc: 0.6825\n",
            "Epoch 38/50\n",
            "14400/14400 - 4s - loss: 0.1714 - acc: 0.9297 - val_loss: 1.0177 - val_acc: 0.6856\n",
            "Epoch 39/50\n",
            "14400/14400 - 4s - loss: 0.1751 - acc: 0.9281 - val_loss: 1.0057 - val_acc: 0.6769\n",
            "Epoch 40/50\n",
            "14400/14400 - 4s - loss: 0.1662 - acc: 0.9346 - val_loss: 1.0110 - val_acc: 0.6769\n",
            "Epoch 41/50\n",
            "14400/14400 - 4s - loss: 0.1630 - acc: 0.9350 - val_loss: 0.9689 - val_acc: 0.6787\n",
            "Epoch 42/50\n",
            "14400/14400 - 4s - loss: 0.1584 - acc: 0.9347 - val_loss: 1.0174 - val_acc: 0.6675\n",
            "Epoch 43/50\n",
            "14400/14400 - 4s - loss: 0.1578 - acc: 0.9374 - val_loss: 1.1032 - val_acc: 0.6769\n",
            "Epoch 44/50\n",
            "14400/14400 - 4s - loss: 0.1587 - acc: 0.9338 - val_loss: 1.0588 - val_acc: 0.6850\n",
            "Epoch 45/50\n",
            "14400/14400 - 4s - loss: 0.1549 - acc: 0.9400 - val_loss: 1.0415 - val_acc: 0.6825\n",
            "Epoch 46/50\n",
            "14400/14400 - 4s - loss: 0.1456 - acc: 0.9424 - val_loss: 1.0268 - val_acc: 0.6831\n",
            "Epoch 47/50\n",
            "14400/14400 - 4s - loss: 0.1476 - acc: 0.9383 - val_loss: 1.0787 - val_acc: 0.6737\n",
            "Epoch 48/50\n",
            "14400/14400 - 4s - loss: 0.1529 - acc: 0.9381 - val_loss: 1.0128 - val_acc: 0.6731\n",
            "Epoch 49/50\n",
            "14400/14400 - 4s - loss: 0.1350 - acc: 0.9464 - val_loss: 1.0767 - val_acc: 0.6812\n",
            "Epoch 50/50\n",
            "14400/14400 - 4s - loss: 0.1422 - acc: 0.9445 - val_loss: 1.0674 - val_acc: 0.6856\n",
            "Training Complete\n"
          ],
          "name": "stdout"
        }
      ]
    },
    {
      "cell_type": "code",
      "metadata": {
        "id": "qxju4ItJKO8F",
        "colab_type": "code",
        "colab": {
          "base_uri": "https://localhost:8080/",
          "height": 607
        },
        "outputId": "3c2063e8-9e46-4afb-ccce-34ae635dff03"
      },
      "source": [
        "import matplotlib.image  as mpimg\n",
        "import matplotlib.pyplot as plt\n",
        "\n",
        "#-----------------------------------------------------------\n",
        "# Retrieve a list of list results on training and test data\n",
        "# sets for each training epoch\n",
        "#-----------------------------------------------------------\n",
        "acc=history.history['acc']\n",
        "val_acc=history.history['val_acc']\n",
        "loss=history.history['loss']\n",
        "val_loss=history.history['val_loss']\n",
        "\n",
        "epochs=range(len(acc)) # Get number of epochs\n",
        "\n",
        "#------------------------------------------------\n",
        "# Plot training and validation accuracy per epoch\n",
        "#------------------------------------------------\n",
        "plt.plot(epochs, acc, 'r')\n",
        "plt.plot(epochs, val_acc, 'b')\n",
        "plt.title('Training and validation accuracy')\n",
        "plt.xlabel(\"Epochs\")\n",
        "plt.ylabel(\"Accuracy\")\n",
        "plt.legend([\"Accuracy\", \"Validation Accuracy\"])\n",
        "\n",
        "plt.figure()\n",
        "\n",
        "#------------------------------------------------\n",
        "# Plot training and validation loss per epoch\n",
        "#------------------------------------------------\n",
        "plt.plot(epochs, loss, 'r')\n",
        "plt.plot(epochs, val_loss, 'b')\n",
        "plt.title('Training and validation loss')\n",
        "plt.xlabel(\"Epochs\")\n",
        "plt.ylabel(\"Loss\")\n",
        "plt.legend([\"Loss\", \"Validation Loss\"])\n",
        "\n",
        "plt.figure()\n",
        "\n",
        "\n",
        "# Expected Output\n",
        "# A chart where the validation loss does not increase sharply!"
      ],
      "execution_count": 16,
      "outputs": [
        {
          "output_type": "execute_result",
          "data": {
            "text/plain": [
              "<Figure size 432x288 with 0 Axes>"
            ]
          },
          "metadata": {
            "tags": []
          },
          "execution_count": 16
        },
        {
          "output_type": "display_data",
          "data": {
            "image/png": "[encoded data removed]",
            "text/plain": [
              "<Figure size 432x288 with 1 Axes>"
            ]
          },
          "metadata": {
            "tags": []
          }
        },
        {
          "output_type": "display_data",
          "data": {
            "image/png": "[encoded data removed]",
            "text/plain": [
              "<Figure size 432x288 with 1 Axes>"
            ]
          },
          "metadata": {
            "tags": []
          }
        },
        {
          "output_type": "display_data",
          "data": {
            "text/plain": [
              "<Figure size 432x288 with 0 Axes>"
            ]
          },
          "metadata": {
            "tags": []
          }
        }
      ]
    }
  ]
}